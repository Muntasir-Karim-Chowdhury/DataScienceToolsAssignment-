{
  "metadata": {
    "language_info": {
      "codemirror_mode": {
        "name": "python",
        "version": 3
      },
      "file_extension": ".py",
      "mimetype": "text/x-python",
      "name": "python",
      "nbconvert_exporter": "python",
      "pygments_lexer": "ipython3",
      "version": "3.8"
    },
    "kernelspec": {
      "name": "python",
      "display_name": "Python (Pyodide)",
      "language": "python"
    }
  },
  "nbformat_minor": 4,
  "nbformat": 4,
  "cells": [
    {
      "cell_type": "markdown",
      "source": "# My First Jupyter Notebook",
      "metadata": {}
    },
    {
      "cell_type": "markdown",
      "source": "### I am goint to start my new journwy in Data Science by completing these tasks",
      "metadata": {}
    },
    {
      "cell_type": "markdown",
      "source": "#### Data Science Languages are given below:\n1. Python\n2. R\n3. Scala\n4. Java\n5. Julia\n6. C++",
      "metadata": {}
    },
    {
      "cell_type": "markdown",
      "source": "#### Data Science Libraries are given below:\n1. Pandas\n2. Matplotlib\n3. Seaborn\n4. Scikit-learn",
      "metadata": {}
    },
    {
      "cell_type": "markdown",
      "source": "|Open Surce Tools|Comercial Tools|Cloud Based Tools|\n|-----------|----------|---------|\n|Apache AirFlow|Informatica PowerCenter|Watson Studio|\n|KubeFlow|IBM InfoSphere|Watson Openscale|\n|Apache Kafka|Oracle|Microsoft Azure\n|Apache Nifi|SAS|AWS|\n",
      "metadata": {}
    },
    {
      "cell_type": "markdown",
      "source": "### Arithmetic Expression\n- a+b\n- a-b\n- a*b\n- a/b",
      "metadata": {}
    },
    {
      "cell_type": "code",
      "source": "5*3+3",
      "metadata": {
        "trusted": true
      },
      "execution_count": 5,
      "outputs": [
        {
          "execution_count": 5,
          "output_type": "execute_result",
          "data": {
            "text/plain": "18"
          },
          "metadata": {}
        }
      ]
    },
    {
      "cell_type": "code",
      "source": "minutes = 120\nhour = minutes/60\nhour",
      "metadata": {
        "trusted": true
      },
      "execution_count": 9,
      "outputs": [
        {
          "execution_count": 9,
          "output_type": "execute_result",
          "data": {
            "text/plain": "2.0"
          },
          "metadata": {}
        }
      ]
    },
    {
      "cell_type": "markdown",
      "source": "### Objectives of this exercise:\n1. To be familiar with Jupyter Notebook\n2. To be familiar with markdown and Code Cell\n3. To understand how arithmetic expressions work",
      "metadata": {}
    },
    {
      "cell_type": "markdown",
      "source": "## Author Name: Muntasir Karim Chowdhury",
      "metadata": {}
    },
    {
      "cell_type": "code",
      "source": "",
      "metadata": {},
      "execution_count": null,
      "outputs": []
    }
  ]
}